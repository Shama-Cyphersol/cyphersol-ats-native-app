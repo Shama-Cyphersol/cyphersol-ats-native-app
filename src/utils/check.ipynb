{
 "cells": [
  {
   "cell_type": "code",
   "execution_count": 13,
   "metadata": {},
   "outputs": [],
   "source": [
    "import random\n",
    "import string\n",
    "import logging\n",
    "import hashlib\n",
    "from typing import List,Tuple\n",
    "from datetime import datetime"
   ]
  },
  {
   "cell_type": "code",
   "execution_count": 3,
   "metadata": {},
   "outputs": [],
   "source": [
    "import logging\n",
    "\n",
    "logging.basicConfig(\n",
    "    level=logging.INFO,\n",
    "    format = '%O(asctime)s - %(levelname)s - %(message)s',\n",
    "    handlers = [logging.StreamHandler()]\n",
    ")"
   ]
  },
  {
   "cell_type": "code",
   "execution_count": 36,
   "metadata": {},
   "outputs": [],
   "source": [
    "SECRET_KEY = \"JJJSSDFDGD\"\n",
    "\n",
    "class LicenseKeyManager:\n",
    "    def __init__(self,secret_key:str = SECRET_KEY):\n",
    "        print(secret_key)\n",
    "        self.secret_key = secret_key.encode('utf-8')\n",
    "        print(self.secret_key)\n",
    "\n",
    "    def _generate_signature(self,data:str) -> str:\n",
    "        h = hmac.new(self.secret_key,data.endcode('utf-8'),hashlib.sha256)\n",
    "        return base64.base64(h.digest()).decode('utf-8')[:9]\n",
    "    \n",
    "    def generate_license_keys(self,num_keys:int = 1 , days_valid:int = 365) -> List[Tuple[str,datetime]]:\n",
    "        try:\n",
    "            if num_keys < 1:\n",
    "                logger.error(\"Number of keys must be at least 1\"\n",
    "                )\n",
    "                return []\n",
    "\n",
    "            expiration_date = datetime.now() + timedelta(days=days_valid)\n",
    "            print(expiration_date)\n",
    "        except:\n",
    "            pass"
   ]
  },
  {
   "cell_type": "code",
   "execution_count": 37,
   "metadata": {},
   "outputs": [
    {
     "name": "stdout",
     "output_type": "stream",
     "text": [
      "JJJSSDFDGD\n",
      "b'JJJSSDFDGD'\n"
     ]
    }
   ],
   "source": [
    "done = LicenseKeyManager()\n"
   ]
  },
  {
   "cell_type": "code",
   "execution_count": 29,
   "metadata": {},
   "outputs": [],
   "source": [
    "def generate_license_keys(self,num_keys:int = 1 , days_valid:int = 365) -> List[Tuple[str,datetime]]:\n",
    "    try:\n",
    "        if num_keys < 1:\n",
    "            logger.error(\"Number of keys must be at least 1\"\n",
    "            )\n",
    "        return []\n",
    "\n",
    "        expiration_date = datetime.now() + timedelta(days=days_valid)\n",
    "        print(expiration_date)\n",
    "    except:\n",
    "        print(\"what this\")"
   ]
  },
  {
   "cell_type": "code",
   "execution_count": 38,
   "metadata": {},
   "outputs": [],
   "source": [
    "done.generate_license_keys(num_keys=2)"
   ]
  },
  {
   "cell_type": "code",
   "execution_count": null,
   "metadata": {},
   "outputs": [],
   "source": []
  }
 ],
 "metadata": {
  "kernelspec": {
   "display_name": "env",
   "language": "python",
   "name": "python3"
  },
  "language_info": {
   "codemirror_mode": {
    "name": "ipython",
    "version": 3
   },
   "file_extension": ".py",
   "mimetype": "text/x-python",
   "name": "python",
   "nbconvert_exporter": "python",
   "pygments_lexer": "ipython3",
   "version": "3.11.0"
  }
 },
 "nbformat": 4,
 "nbformat_minor": 2
}
